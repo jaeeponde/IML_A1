{
 "cells": [
  {
   "cell_type": "code",
   "execution_count": null,
   "metadata": {},
   "outputs": [],
   "source": [
    "# Min-max normalization\n",
    "df_normalized = (df_train - df_train.min()) / (df_train.max() - df_train.min())\n",
    "\n",
    "# Display the normalized dataframe"
   ]
  },
  {
   "cell_type": "code",
   "execution_count": null,
   "metadata": {},
   "outputs": [],
   "source": [
    "df_normalized['FUEL CONSUMPTION'] = df['FUEL CONSUMPTION'].values\n",
    "df_normalized"
   ]
  },
  {
   "cell_type": "code",
   "execution_count": null,
   "metadata": {},
   "outputs": [],
   "source": [
    "df_shuffled = df_normalized.sample(frac=1, random_state=42).reset_index(drop=True)\n",
    "train_size = 511 - 50  # 461 for training\n",
    "train_data = df_shuffled.iloc[:train_size]\n",
    "test_data = df_shuffled.iloc[train_size:]\n",
    "\n",
    "# Extract features and target\n",
    "X_train = train_data.drop(columns='FUEL CONSUMPTION').values\n",
    "y_train = train_data['FUEL CONSUMPTION'].values\n",
    "X_test = test_data.drop(columns='FUEL CONSUMPTION').values\n",
    "y_test = test_data['FUEL CONSUMPTION'].values"
   ]
  },
  {
   "cell_type": "code",
   "execution_count": null,
   "metadata": {},
   "outputs": [],
   "source": [
    "import numpy as np\n",
    "X_train_biased = np.c_[np.ones(X_train.shape[0]), X_train]\n",
    "X_test_biased = np.c_[np.ones(X_test.shape[0]), X_test]"
   ]
  },
  {
   "cell_type": "code",
   "execution_count": null,
   "metadata": {},
   "outputs": [],
   "source": [
    "X_train_biased"
   ]
  },
  {
   "cell_type": "code",
   "execution_count": null,
   "metadata": {},
   "outputs": [],
   "source": [
    "y_train"
   ]
  },
  {
   "cell_type": "code",
   "execution_count": null,
   "metadata": {},
   "outputs": [],
   "source": [
    "weights = np.full(X_train.shape[1], 5.0)  # Random initialization\n",
    "learning_rate = 0.0001  # Set your learning rate\n",
    "n_iterations = 10  # Number of iterations for gradient descent"
   ]
  },
  {
   "cell_type": "code",
   "execution_count": null,
   "metadata": {},
   "outputs": [],
   "source": [
    "weights"
   ]
  },
  {
   "cell_type": "code",
   "execution_count": null,
   "metadata": {},
   "outputs": [],
   "source": [
    "def gradient_descent(X, y, weights, learning_rate, n_iterations):\n",
    "    n_samples = len(y)\n",
    "\n",
    "    for _ in range(n_iterations):\n",
    "        \n",
    "        # Compute the predictions\n",
    "        predictions = X.dot(weights)\n",
    "        \n",
    "        # Compute the gradient\n",
    "        gradients = (2/n_samples) * X.T.dot(predictions - y)\n",
    "        \n",
    "        # Update the weights\n",
    "        weights -= learning_rate * gradients\n",
    "\n",
    "        print(\"current weights \\n\")\n",
    "        print(weights)\n",
    "        \n",
    "    return weights"
   ]
  },
  {
   "cell_type": "code",
   "execution_count": null,
   "metadata": {},
   "outputs": [],
   "source": [
    "weights = gradient_descent(X_train, y_train, weights, learning_rate, n_iterations)\n"
   ]
  },
  {
   "cell_type": "code",
   "execution_count": null,
   "metadata": {},
   "outputs": [],
   "source": [
    "def predict(X, weights):\n",
    "    return X.dot(weights)"
   ]
  },
  {
   "cell_type": "code",
   "execution_count": null,
   "metadata": {},
   "outputs": [],
   "source": [
    "def mean_squared_error(y_true, y_pred):\n",
    "    return np.mean((y_true - y_pred) ** 2)\n",
    "\n",
    "# Evaluate on training data\n",
    "train_mse = mean_squared_error(y_train, y_train_pred)\n",
    "print(f'Training MSE: {train_mse}')\n",
    "\n",
    "# Evaluate on testing data\n",
    "test_mse = mean_squared_error(y_test, y_test_pred)\n",
    "print(f'Testing MSE: {test_mse}')"
   ]
  },
  {
   "cell_type": "code",
   "execution_count": null,
   "metadata": {},
   "outputs": [],
   "source": [
    "import pandas as pd\n",
    "\n",
    "# Assuming y_train, y_train_pred, y_test, and y_test_pred are NumPy arrays\n",
    "\n",
    "# Create a DataFrame for training data comparison\n",
    "df_train_comparison = pd.DataFrame({\n",
    "    'y_train_actual': y_train,\n",
    "    'y_train_predicted': y_train_pred\n",
    "})\n",
    "\n",
    "\n",
    "\n",
    "# Optionally, display them side by side (optional, can display each separately as well)\n",
    "print(\"Training Data Comparison:\")\n",
    "df_train_comparison"
   ]
  },
  {
   "cell_type": "code",
   "execution_count": null,
   "metadata": {},
   "outputs": [],
   "source": [
    "import pandas as pd\n",
    "\n",
    "# Assuming y_train, y_train_pred, y_test, and y_test_pred are NumPy arrays\n",
    "\n",
    "\n",
    "# Create a DataFrame for testing data comparison\n",
    "df_test_comparison = pd.DataFrame({\n",
    "    'y_test_actual': y_test,\n",
    "    'y_test_predicted': y_test_pred\n",
    "})\n",
    "\n",
    "# Optionally, display them side by side (optional, can display each separately as well)\n",
    "print(\"Testing Data Comparison:\")\n",
    "df_test_comparison"
   ]
  },
  {
   "cell_type": "code",
   "execution_count": null,
   "metadata": {},
   "outputs": [],
   "source": []
  }
 ],
 "metadata": {
  "language_info": {
   "name": "python"
  },
  "orig_nbformat": 4
 },
 "nbformat": 4,
 "nbformat_minor": 2
}
