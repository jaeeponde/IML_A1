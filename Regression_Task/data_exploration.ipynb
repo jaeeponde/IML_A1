{
 "cells": [
  {
   "cell_type": "code",
   "execution_count": 1,
   "metadata": {},
   "outputs": [],
   "source": [
    "import pandas as pd"
   ]
  },
  {
   "cell_type": "code",
   "execution_count": 2,
   "metadata": {},
   "outputs": [
    {
     "data": {
      "text/html": [
       "<div>\n",
       "<style scoped>\n",
       "    .dataframe tbody tr th:only-of-type {\n",
       "        vertical-align: middle;\n",
       "    }\n",
       "\n",
       "    .dataframe tbody tr th {\n",
       "        vertical-align: top;\n",
       "    }\n",
       "\n",
       "    .dataframe thead th {\n",
       "        text-align: right;\n",
       "    }\n",
       "</style>\n",
       "<table border=\"1\" class=\"dataframe\">\n",
       "  <thead>\n",
       "    <tr style=\"text-align: right;\">\n",
       "      <th></th>\n",
       "      <th>Year</th>\n",
       "      <th>MAKE</th>\n",
       "      <th>MODEL</th>\n",
       "      <th>VEHICLE CLASS</th>\n",
       "      <th>ENGINE SIZE</th>\n",
       "      <th>CYLINDERS</th>\n",
       "      <th>TRANSMISSION</th>\n",
       "      <th>FUEL</th>\n",
       "      <th>FUEL CONSUMPTION</th>\n",
       "      <th>COEMISSIONS</th>\n",
       "    </tr>\n",
       "  </thead>\n",
       "  <tbody>\n",
       "    <tr>\n",
       "      <th>0</th>\n",
       "      <td>2000</td>\n",
       "      <td>VOLKSWAGEN</td>\n",
       "      <td>GTI</td>\n",
       "      <td>COMPACT</td>\n",
       "      <td>2.0</td>\n",
       "      <td>4</td>\n",
       "      <td>M5</td>\n",
       "      <td>X</td>\n",
       "      <td>11.2</td>\n",
       "      <td>228</td>\n",
       "    </tr>\n",
       "    <tr>\n",
       "      <th>1</th>\n",
       "      <td>2000</td>\n",
       "      <td>DODGE</td>\n",
       "      <td>DAKOTA 4X4</td>\n",
       "      <td>PICKUP TRUCK - STANDARD</td>\n",
       "      <td>4.7</td>\n",
       "      <td>8</td>\n",
       "      <td>M5</td>\n",
       "      <td>X</td>\n",
       "      <td>18.8</td>\n",
       "      <td>382</td>\n",
       "    </tr>\n",
       "    <tr>\n",
       "      <th>2</th>\n",
       "      <td>2000</td>\n",
       "      <td>GMC</td>\n",
       "      <td>C1500 SIERRA</td>\n",
       "      <td>PICKUP TRUCK - STANDARD</td>\n",
       "      <td>4.8</td>\n",
       "      <td>8</td>\n",
       "      <td>M5</td>\n",
       "      <td>X</td>\n",
       "      <td>18.9</td>\n",
       "      <td>373</td>\n",
       "    </tr>\n",
       "    <tr>\n",
       "      <th>3</th>\n",
       "      <td>2000</td>\n",
       "      <td>FORD</td>\n",
       "      <td>F150 4X4</td>\n",
       "      <td>PICKUP TRUCK - STANDARD</td>\n",
       "      <td>4.6</td>\n",
       "      <td>8</td>\n",
       "      <td>A4</td>\n",
       "      <td>X</td>\n",
       "      <td>18.5</td>\n",
       "      <td>380</td>\n",
       "    </tr>\n",
       "    <tr>\n",
       "      <th>4</th>\n",
       "      <td>2000</td>\n",
       "      <td>FORD</td>\n",
       "      <td>F150 4X4</td>\n",
       "      <td>PICKUP TRUCK - STANDARD</td>\n",
       "      <td>4.2</td>\n",
       "      <td>6</td>\n",
       "      <td>A4</td>\n",
       "      <td>X</td>\n",
       "      <td>17.3</td>\n",
       "      <td>359</td>\n",
       "    </tr>\n",
       "    <tr>\n",
       "      <th>...</th>\n",
       "      <td>...</td>\n",
       "      <td>...</td>\n",
       "      <td>...</td>\n",
       "      <td>...</td>\n",
       "      <td>...</td>\n",
       "      <td>...</td>\n",
       "      <td>...</td>\n",
       "      <td>...</td>\n",
       "      <td>...</td>\n",
       "      <td>...</td>\n",
       "    </tr>\n",
       "    <tr>\n",
       "      <th>506</th>\n",
       "      <td>2000</td>\n",
       "      <td>CHEVROLET</td>\n",
       "      <td>ASTRO AWD CARGO</td>\n",
       "      <td>VAN - CARGO</td>\n",
       "      <td>4.3</td>\n",
       "      <td>6</td>\n",
       "      <td>A4</td>\n",
       "      <td>X</td>\n",
       "      <td>17.0</td>\n",
       "      <td>350</td>\n",
       "    </tr>\n",
       "    <tr>\n",
       "      <th>507</th>\n",
       "      <td>2000</td>\n",
       "      <td>CHEVROLET</td>\n",
       "      <td>K1500 SILVERADO 4X4</td>\n",
       "      <td>PICKUP TRUCK - STANDARD</td>\n",
       "      <td>4.3</td>\n",
       "      <td>6</td>\n",
       "      <td>M5</td>\n",
       "      <td>X</td>\n",
       "      <td>18.7</td>\n",
       "      <td>386</td>\n",
       "    </tr>\n",
       "    <tr>\n",
       "      <th>508</th>\n",
       "      <td>2000</td>\n",
       "      <td>FORD</td>\n",
       "      <td>TAURUS</td>\n",
       "      <td>MID-SIZE</td>\n",
       "      <td>3.0</td>\n",
       "      <td>6</td>\n",
       "      <td>A4</td>\n",
       "      <td>X</td>\n",
       "      <td>13.6</td>\n",
       "      <td>267</td>\n",
       "    </tr>\n",
       "    <tr>\n",
       "      <th>509</th>\n",
       "      <td>2000</td>\n",
       "      <td>MERCEDES-BENZ</td>\n",
       "      <td>SLK 230 KOMPRESSOR #</td>\n",
       "      <td>SUBCOMPACT</td>\n",
       "      <td>2.3</td>\n",
       "      <td>4</td>\n",
       "      <td>M5</td>\n",
       "      <td>Z</td>\n",
       "      <td>12.6</td>\n",
       "      <td>246</td>\n",
       "    </tr>\n",
       "    <tr>\n",
       "      <th>510</th>\n",
       "      <td>2000</td>\n",
       "      <td>CHEVROLET</td>\n",
       "      <td>G1500/G2500 CHEVY EXPRESS</td>\n",
       "      <td>VAN - PASSENGER</td>\n",
       "      <td>5.7</td>\n",
       "      <td>8</td>\n",
       "      <td>A4</td>\n",
       "      <td>X</td>\n",
       "      <td>20.6</td>\n",
       "      <td>426</td>\n",
       "    </tr>\n",
       "  </tbody>\n",
       "</table>\n",
       "<p>511 rows × 10 columns</p>\n",
       "</div>"
      ],
      "text/plain": [
       "     Year           MAKE                      MODEL            VEHICLE CLASS  \\\n",
       "0    2000     VOLKSWAGEN                        GTI                  COMPACT   \n",
       "1    2000          DODGE                 DAKOTA 4X4  PICKUP TRUCK - STANDARD   \n",
       "2    2000            GMC               C1500 SIERRA  PICKUP TRUCK - STANDARD   \n",
       "3    2000           FORD                   F150 4X4  PICKUP TRUCK - STANDARD   \n",
       "4    2000           FORD                   F150 4X4  PICKUP TRUCK - STANDARD   \n",
       "..    ...            ...                        ...                      ...   \n",
       "506  2000      CHEVROLET            ASTRO AWD CARGO              VAN - CARGO   \n",
       "507  2000      CHEVROLET        K1500 SILVERADO 4X4  PICKUP TRUCK - STANDARD   \n",
       "508  2000           FORD                     TAURUS                 MID-SIZE   \n",
       "509  2000  MERCEDES-BENZ       SLK 230 KOMPRESSOR #               SUBCOMPACT   \n",
       "510  2000      CHEVROLET  G1500/G2500 CHEVY EXPRESS          VAN - PASSENGER   \n",
       "\n",
       "     ENGINE SIZE  CYLINDERS TRANSMISSION FUEL  FUEL CONSUMPTION  COEMISSIONS  \n",
       "0            2.0          4           M5    X              11.2          228  \n",
       "1            4.7          8           M5    X              18.8          382  \n",
       "2            4.8          8           M5    X              18.9          373  \n",
       "3            4.6          8           A4    X              18.5          380  \n",
       "4            4.2          6           A4    X              17.3          359  \n",
       "..           ...        ...          ...  ...               ...          ...  \n",
       "506          4.3          6           A4    X              17.0          350  \n",
       "507          4.3          6           M5    X              18.7          386  \n",
       "508          3.0          6           A4    X              13.6          267  \n",
       "509          2.3          4           M5    Z              12.6          246  \n",
       "510          5.7          8           A4    X              20.6          426  \n",
       "\n",
       "[511 rows x 10 columns]"
      ]
     },
     "execution_count": 2,
     "metadata": {},
     "output_type": "execute_result"
    }
   ],
   "source": [
    "df=pd.read_csv('/Users/jaeeponde/IML_A1/IML_A1/fuel_train - fuel_train.csv')\n",
    "df"
   ]
  },
  {
   "cell_type": "code",
   "execution_count": 4,
   "metadata": {},
   "outputs": [
    {
     "data": {
      "text/plain": [
       "1"
      ]
     },
     "execution_count": 4,
     "metadata": {},
     "output_type": "execute_result"
    }
   ],
   "source": [
    "unique_count = df['Year'].nunique()\n",
    "unique_count\n",
    "#so year column can be dropped"
   ]
  },
  {
   "cell_type": "code",
   "execution_count": 6,
   "metadata": {},
   "outputs": [
    {
     "data": {
      "text/plain": [
       "36"
      ]
     },
     "execution_count": 6,
     "metadata": {},
     "output_type": "execute_result"
    }
   ],
   "source": [
    "unique_count = df['MAKE'].nunique()\n",
    "unique_count"
   ]
  },
  {
   "cell_type": "code",
   "execution_count": 7,
   "metadata": {},
   "outputs": [
    {
     "data": {
      "text/plain": [
       "292"
      ]
     },
     "execution_count": 7,
     "metadata": {},
     "output_type": "execute_result"
    }
   ],
   "source": [
    "unique_count = df['MODEL'].nunique()\n",
    "unique_count"
   ]
  },
  {
   "cell_type": "code",
   "execution_count": 8,
   "metadata": {},
   "outputs": [
    {
     "data": {
      "text/plain": [
       "14"
      ]
     },
     "execution_count": 8,
     "metadata": {},
     "output_type": "execute_result"
    }
   ],
   "source": [
    "unique_count = df['VEHICLE CLASS'].nunique()\n",
    "unique_count"
   ]
  },
  {
   "cell_type": "code",
   "execution_count": 9,
   "metadata": {},
   "outputs": [
    {
     "data": {
      "text/plain": [
       "7"
      ]
     },
     "execution_count": 9,
     "metadata": {},
     "output_type": "execute_result"
    }
   ],
   "source": [
    "unique_count = df['TRANSMISSION'].nunique()\n",
    "unique_count\n",
    "\n",
    "#can be 1 hot encoded "
   ]
  },
  {
   "cell_type": "code",
   "execution_count": 10,
   "metadata": {},
   "outputs": [
    {
     "data": {
      "text/plain": [
       "5"
      ]
     },
     "execution_count": 10,
     "metadata": {},
     "output_type": "execute_result"
    }
   ],
   "source": [
    "unique_count = df['FUEL'].nunique()\n",
    "unique_count\n",
    "\n",
    "#can be 1 hot encoded "
   ]
  },
  {
   "cell_type": "code",
   "execution_count": 13,
   "metadata": {},
   "outputs": [
    {
     "data": {
      "text/plain": [
       "Year                0\n",
       "MAKE                0\n",
       "MODEL               0\n",
       "VEHICLE CLASS       0\n",
       "ENGINE SIZE         0\n",
       "CYLINDERS           0\n",
       "TRANSMISSION        0\n",
       "FUEL                0\n",
       "FUEL CONSUMPTION    0\n",
       "COEMISSIONS         0\n",
       "dtype: int64"
      ]
     },
     "execution_count": 13,
     "metadata": {},
     "output_type": "execute_result"
    }
   ],
   "source": [
    "df.isnull().sum()\n",
    "#no missing values"
   ]
  },
  {
   "cell_type": "code",
   "execution_count": 14,
   "metadata": {},
   "outputs": [],
   "source": [
    "import pandas as pd\n",
    "import matplotlib.pyplot as plt"
   ]
  },
  {
   "cell_type": "code",
   "execution_count": 18,
   "metadata": {},
   "outputs": [
    {
     "data": {
      "image/png": "[encoded data removed]",
      "text/plain": [
       "<Figure size 640x480 with 1 Axes>"
      ]
     },
     "metadata": {},
     "output_type": "display_data"
    },
    {
     "name": "stdout",
     "output_type": "stream",
     "text": [
      "Correlation between col1 and col2: 0.8167890679390826\n"
     ]
    }
   ],
   "source": [
    "# Plot the data\n",
    "col1='FUEL CONSUMPTION'\n",
    "col2='CYLINDERS'\n",
    "df.plot(x=col2, y=col1, kind='scatter')\n",
    "\n",
    "# Show the plot\n",
    "plt.show()\n",
    "\n",
    "correlation = df[col1].corr(df[col2])\n",
    "\n",
    "print(f\"Correlation between col1 and col2: {correlation}\")"
   ]
  },
  {
   "cell_type": "code",
   "execution_count": 21,
   "metadata": {},
   "outputs": [
    {
     "data": {
      "image/png": "[encoded data removed]",
      "text/plain": [
       "<Figure size 640x480 with 1 Axes>"
      ]
     },
     "metadata": {},
     "output_type": "display_data"
    },
    {
     "name": "stdout",
     "output_type": "stream",
     "text": [
      "Correlation between col1 and col2: 0.8675750208439437\n"
     ]
    }
   ],
   "source": [
    "# Plot the data\n",
    "col1='FUEL CONSUMPTION'\n",
    "col2='ENGINE SIZE'\n",
    "df.plot(x=col2, y=col1, kind='scatter')\n",
    "\n",
    "# Show the plot\n",
    "plt.show()\n",
    "\n",
    "correlation = df[col1].corr(df[col2])\n",
    "\n",
    "print(f\"Correlation between col1 and col2: {correlation}\")"
   ]
  },
  {
   "cell_type": "code",
   "execution_count": 22,
   "metadata": {},
   "outputs": [
    {
     "data": {
      "image/png": "[encoded data removed]",
      "text/plain": [
       "<Figure size 640x480 with 1 Axes>"
      ]
     },
     "metadata": {},
     "output_type": "display_data"
    },
    {
     "name": "stdout",
     "output_type": "stream",
     "text": [
      "Correlation between col1 and col2: 0.9805283969901406\n"
     ]
    }
   ],
   "source": [
    "# Plot the data\n",
    "col1='FUEL CONSUMPTION'\n",
    "col2='COEMISSIONS'\n",
    "df.plot(x=col2, y=col1, kind='scatter')\n",
    "\n",
    "# Show the plot\n",
    "plt.show()\n",
    "\n",
    "correlation = df[col1].corr(df[col2])\n",
    "\n",
    "print(f\"Correlation between col1 and col2: {correlation}\")"
   ]
  }
 ],
 "metadata": {
  "kernelspec": {
   "display_name": "kcdha",
   "language": "python",
   "name": "python3"
  },
  "language_info": {
   "codemirror_mode": {
    "name": "ipython",
    "version": 3
   },
   "file_extension": ".py",
   "mimetype": "text/x-python",
   "name": "python",
   "nbconvert_exporter": "python",
   "pygments_lexer": "ipython3",
   "version": "3.11.9"
  },
  "orig_nbformat": 4
 },
 "nbformat": 4,
 "nbformat_minor": 2
}
